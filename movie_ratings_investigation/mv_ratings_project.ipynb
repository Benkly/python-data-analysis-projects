{
 "cells": [
  {
   "cell_type": "markdown",
   "id": "c2cdfc24",
   "metadata": {},
   "source": [
    "# Have the Stars Realigned? A Post-Exposé Analysis on Fandango’s Inflated Movie Ratings"
   ]
  },
  {
   "cell_type": "markdown",
   "id": "04e8faa2",
   "metadata": {},
   "source": [
    "### Project Background and Goal\n",
    "\n",
    "In October 2015, a journalist from FiveThirtyEight published an [article](https://fivethirtyeight.com/features/fandango-movies-ratings) presenting strong evidence to suggest [Fandango's](https://www.fandango.com) movie rating system was **biased** and **dishonest**:\n",
    "\n",
    ">* The true movie rating was almost always rounded up to the nearest half star (e.g., a 4.1 would be displayed as a 4.5 star rating).\n",
    ">\n",
    ">* In 8% of the cases analysed, half star ratings were shown to be rounded up to the nearest whole star (e.g., a 4.5 may be rounded up to a 5 star rating).\n",
    ">\n",
    ">* One case showed a highly unexpected 5 star rating, inflated from a rating value of 4 which was recorded in the HTML for the page.\n",
    "\n",
    "Following the exposé, the official response claimed that biased rounding was a result of a bug in their system rather than being intentional. They promised to fix the errors as soon as possible. We can presume this happened, but it is no longer clear since the numerical rating values are no longer displayed in the HTML for the webpage.\n",
    "\n",
    "**Aim:**\n",
    "\n",
    ">This project sets out to determine if any meaningful change in the ratings have occurred post-exposé by analysing movie ratings scraped from Fandango over the years 2016-2017 (around 1-2 years following the journalist's article). \n",
    "\n",
    "---"
   ]
  },
  {
   "cell_type": "markdown",
   "id": "3458ee55",
   "metadata": {},
   "source": [
    "## About the Datasets"
   ]
  },
  {
   "cell_type": "markdown",
   "id": "36316d56",
   "metadata": {},
   "source": [
    "The original data analysis conducted to reveal the dishonesty in displayed ratings was made publically available on [GitHub](https://github.com/fivethirtyeight/data/tree/master/fandango). \n",
    "\n",
    "The `fandango_scores_comparison.csv` file contains the associated data. This analysis will focus on the following fields from this dataset:\n",
    "\n",
    "| Column                           | Description                                                                                                               |\n",
    "|----------------------------------|---------------------------------------------------------------------------------------------------------------------------|\n",
    "| FILM                             | The film title and release year.                                                                                          |\n",
    "| Fandango_Stars                   | The number of stars displayed for the film on the Fandango webpage.                                                       |\n",
    "| Fandango_Ratingvalue             | The Fandango rating value as pulled from the HTML of the website. This is the **actual** average score the movie obtained.|\n",
    "| Fandango_votes                   | The number of user votes the film had on Fandango.                                                                        |\n",
    "| Fandango_Difference              | The difference between the presented Fandango_Stars and the actual Fandango_Ratingvalue.                                  |"
   ]
  },
  {
   "cell_type": "markdown",
   "id": "e3b02e49",
   "metadata": {},
   "source": [
    " ---\n",
    " Another individual collated movie ratings over the years 2016-2017, using Fandango as one of the data sources. This dataset is also publically available on [GitHub](https://github.com/mircealex/Movie_ratings_2016_17).\n",
    "\n",
    " The `movie_ratings_16_17.csv` file contains the data associated with this dataset. For the following report, the following fields will be utilised:\n",
    "\n",
    " | Column                           | Description                                                                                                               |\n",
    " |----------------------------------|---------------------------------------------------------------------------------------------------------------------------|\n",
    " | movie                            | The title of the film.                                                                                                    |\n",
    " | year                             | The release year of the film.                                                                                             |\n",
    " | fandango                         | The Fandango rating of the film (user score).                                                                             |"
   ]
  },
  {
   "cell_type": "markdown",
   "id": "86f7e8c7",
   "metadata": {},
   "source": [
    "## Preparing the Workbook"
   ]
  },
  {
   "cell_type": "code",
   "execution_count": 1,
   "id": "323803b3",
   "metadata": {},
   "outputs": [],
   "source": [
    "import numpy as np\n",
    "import pandas as pd\n",
    "pd.options.display.max_columns = 100 # prevents truncated outputs by raising maximum number of rendered columns\n",
    "\n",
    "import matplotlib.pyplot as plt\n",
    "import seaborn as sns\n",
    "from scipy.stats import gaussian_kde # required for producing kernel density plots\n",
    "\n",
    "%matplotlib inline\n",
    "sns.set_theme()"
   ]
  },
  {
   "cell_type": "markdown",
   "id": "1f7babf4",
   "metadata": {},
   "source": [
    "## Reading in and Preparing the Datasets"
   ]
  },
  {
   "cell_type": "code",
   "execution_count": 2,
   "id": "3f7f1962",
   "metadata": {},
   "outputs": [
    {
     "data": {
      "text/html": [
       "<div>\n",
       "<style scoped>\n",
       "    .dataframe tbody tr th:only-of-type {\n",
       "        vertical-align: middle;\n",
       "    }\n",
       "\n",
       "    .dataframe tbody tr th {\n",
       "        vertical-align: top;\n",
       "    }\n",
       "\n",
       "    .dataframe thead th {\n",
       "        text-align: right;\n",
       "    }\n",
       "</style>\n",
       "<table border=\"1\" class=\"dataframe\">\n",
       "  <thead>\n",
       "    <tr style=\"text-align: right;\">\n",
       "      <th></th>\n",
       "      <th>FILM</th>\n",
       "      <th>RottenTomatoes</th>\n",
       "      <th>RottenTomatoes_User</th>\n",
       "      <th>Metacritic</th>\n",
       "      <th>Metacritic_User</th>\n",
       "      <th>IMDB</th>\n",
       "      <th>Fandango_Stars</th>\n",
       "      <th>Fandango_Ratingvalue</th>\n",
       "      <th>RT_norm</th>\n",
       "      <th>RT_user_norm</th>\n",
       "      <th>Metacritic_norm</th>\n",
       "      <th>Metacritic_user_nom</th>\n",
       "      <th>IMDB_norm</th>\n",
       "      <th>RT_norm_round</th>\n",
       "      <th>RT_user_norm_round</th>\n",
       "      <th>Metacritic_norm_round</th>\n",
       "      <th>Metacritic_user_norm_round</th>\n",
       "      <th>IMDB_norm_round</th>\n",
       "      <th>Metacritic_user_vote_count</th>\n",
       "      <th>IMDB_user_vote_count</th>\n",
       "      <th>Fandango_votes</th>\n",
       "      <th>Fandango_Difference</th>\n",
       "    </tr>\n",
       "  </thead>\n",
       "  <tbody>\n",
       "    <tr>\n",
       "      <th>0</th>\n",
       "      <td>Avengers: Age of Ultron (2015)</td>\n",
       "      <td>74</td>\n",
       "      <td>86</td>\n",
       "      <td>66</td>\n",
       "      <td>7.1</td>\n",
       "      <td>7.8</td>\n",
       "      <td>5.0</td>\n",
       "      <td>4.5</td>\n",
       "      <td>3.70</td>\n",
       "      <td>4.3</td>\n",
       "      <td>3.30</td>\n",
       "      <td>3.55</td>\n",
       "      <td>3.90</td>\n",
       "      <td>3.5</td>\n",
       "      <td>4.5</td>\n",
       "      <td>3.5</td>\n",
       "      <td>3.5</td>\n",
       "      <td>4.0</td>\n",
       "      <td>1330</td>\n",
       "      <td>271107</td>\n",
       "      <td>14846</td>\n",
       "      <td>0.5</td>\n",
       "    </tr>\n",
       "    <tr>\n",
       "      <th>1</th>\n",
       "      <td>Cinderella (2015)</td>\n",
       "      <td>85</td>\n",
       "      <td>80</td>\n",
       "      <td>67</td>\n",
       "      <td>7.5</td>\n",
       "      <td>7.1</td>\n",
       "      <td>5.0</td>\n",
       "      <td>4.5</td>\n",
       "      <td>4.25</td>\n",
       "      <td>4.0</td>\n",
       "      <td>3.35</td>\n",
       "      <td>3.75</td>\n",
       "      <td>3.55</td>\n",
       "      <td>4.5</td>\n",
       "      <td>4.0</td>\n",
       "      <td>3.5</td>\n",
       "      <td>4.0</td>\n",
       "      <td>3.5</td>\n",
       "      <td>249</td>\n",
       "      <td>65709</td>\n",
       "      <td>12640</td>\n",
       "      <td>0.5</td>\n",
       "    </tr>\n",
       "    <tr>\n",
       "      <th>2</th>\n",
       "      <td>Ant-Man (2015)</td>\n",
       "      <td>80</td>\n",
       "      <td>90</td>\n",
       "      <td>64</td>\n",
       "      <td>8.1</td>\n",
       "      <td>7.8</td>\n",
       "      <td>5.0</td>\n",
       "      <td>4.5</td>\n",
       "      <td>4.00</td>\n",
       "      <td>4.5</td>\n",
       "      <td>3.20</td>\n",
       "      <td>4.05</td>\n",
       "      <td>3.90</td>\n",
       "      <td>4.0</td>\n",
       "      <td>4.5</td>\n",
       "      <td>3.0</td>\n",
       "      <td>4.0</td>\n",
       "      <td>4.0</td>\n",
       "      <td>627</td>\n",
       "      <td>103660</td>\n",
       "      <td>12055</td>\n",
       "      <td>0.5</td>\n",
       "    </tr>\n",
       "  </tbody>\n",
       "</table>\n",
       "</div>"
      ],
      "text/plain": [
       "                             FILM  RottenTomatoes  RottenTomatoes_User  \\\n",
       "0  Avengers: Age of Ultron (2015)              74                   86   \n",
       "1               Cinderella (2015)              85                   80   \n",
       "2                  Ant-Man (2015)              80                   90   \n",
       "\n",
       "   Metacritic  Metacritic_User  IMDB  Fandango_Stars  Fandango_Ratingvalue  \\\n",
       "0          66              7.1   7.8             5.0                   4.5   \n",
       "1          67              7.5   7.1             5.0                   4.5   \n",
       "2          64              8.1   7.8             5.0                   4.5   \n",
       "\n",
       "   RT_norm  RT_user_norm  Metacritic_norm  Metacritic_user_nom  IMDB_norm  \\\n",
       "0     3.70           4.3             3.30                 3.55       3.90   \n",
       "1     4.25           4.0             3.35                 3.75       3.55   \n",
       "2     4.00           4.5             3.20                 4.05       3.90   \n",
       "\n",
       "   RT_norm_round  RT_user_norm_round  Metacritic_norm_round  \\\n",
       "0            3.5                 4.5                    3.5   \n",
       "1            4.5                 4.0                    3.5   \n",
       "2            4.0                 4.5                    3.0   \n",
       "\n",
       "   Metacritic_user_norm_round  IMDB_norm_round  Metacritic_user_vote_count  \\\n",
       "0                         3.5              4.0                        1330   \n",
       "1                         4.0              3.5                         249   \n",
       "2                         4.0              4.0                         627   \n",
       "\n",
       "   IMDB_user_vote_count  Fandango_votes  Fandango_Difference  \n",
       "0                271107           14846                  0.5  \n",
       "1                 65709           12640                  0.5  \n",
       "2                103660           12055                  0.5  "
      ]
     },
     "execution_count": 2,
     "metadata": {},
     "output_type": "execute_result"
    }
   ],
   "source": [
    "before = pd.read_csv(\"fandango_score_comparison.csv\") # the original dataset used to expose the dishonesty\n",
    "\n",
    "after = pd.read_csv(\"movie_ratings_16_17.csv\") # the post-exposé dataset to compare with in this follow-up analysis\n",
    "\n",
    "before.head(3)"
   ]
  },
  {
   "cell_type": "code",
   "execution_count": 3,
   "id": "f999b17b",
   "metadata": {},
   "outputs": [
    {
     "data": {
      "text/html": [
       "<div>\n",
       "<style scoped>\n",
       "    .dataframe tbody tr th:only-of-type {\n",
       "        vertical-align: middle;\n",
       "    }\n",
       "\n",
       "    .dataframe tbody tr th {\n",
       "        vertical-align: top;\n",
       "    }\n",
       "\n",
       "    .dataframe thead th {\n",
       "        text-align: right;\n",
       "    }\n",
       "</style>\n",
       "<table border=\"1\" class=\"dataframe\">\n",
       "  <thead>\n",
       "    <tr style=\"text-align: right;\">\n",
       "      <th></th>\n",
       "      <th>movie</th>\n",
       "      <th>year</th>\n",
       "      <th>metascore</th>\n",
       "      <th>imdb</th>\n",
       "      <th>tmeter</th>\n",
       "      <th>audience</th>\n",
       "      <th>fandango</th>\n",
       "      <th>n_metascore</th>\n",
       "      <th>n_imdb</th>\n",
       "      <th>n_tmeter</th>\n",
       "      <th>n_audience</th>\n",
       "      <th>nr_metascore</th>\n",
       "      <th>nr_imdb</th>\n",
       "      <th>nr_tmeter</th>\n",
       "      <th>nr_audience</th>\n",
       "    </tr>\n",
       "  </thead>\n",
       "  <tbody>\n",
       "    <tr>\n",
       "      <th>0</th>\n",
       "      <td>10 Cloverfield Lane</td>\n",
       "      <td>2016</td>\n",
       "      <td>76</td>\n",
       "      <td>7.2</td>\n",
       "      <td>90</td>\n",
       "      <td>79</td>\n",
       "      <td>3.5</td>\n",
       "      <td>3.80</td>\n",
       "      <td>3.60</td>\n",
       "      <td>4.5</td>\n",
       "      <td>3.95</td>\n",
       "      <td>4.0</td>\n",
       "      <td>3.5</td>\n",
       "      <td>4.5</td>\n",
       "      <td>4.0</td>\n",
       "    </tr>\n",
       "    <tr>\n",
       "      <th>1</th>\n",
       "      <td>13 Hours</td>\n",
       "      <td>2016</td>\n",
       "      <td>48</td>\n",
       "      <td>7.3</td>\n",
       "      <td>50</td>\n",
       "      <td>83</td>\n",
       "      <td>4.5</td>\n",
       "      <td>2.40</td>\n",
       "      <td>3.65</td>\n",
       "      <td>2.5</td>\n",
       "      <td>4.15</td>\n",
       "      <td>2.5</td>\n",
       "      <td>3.5</td>\n",
       "      <td>2.5</td>\n",
       "      <td>4.0</td>\n",
       "    </tr>\n",
       "    <tr>\n",
       "      <th>2</th>\n",
       "      <td>A Cure for Wellness</td>\n",
       "      <td>2016</td>\n",
       "      <td>47</td>\n",
       "      <td>6.6</td>\n",
       "      <td>40</td>\n",
       "      <td>47</td>\n",
       "      <td>3.0</td>\n",
       "      <td>2.35</td>\n",
       "      <td>3.30</td>\n",
       "      <td>2.0</td>\n",
       "      <td>2.35</td>\n",
       "      <td>2.5</td>\n",
       "      <td>3.5</td>\n",
       "      <td>2.0</td>\n",
       "      <td>2.5</td>\n",
       "    </tr>\n",
       "  </tbody>\n",
       "</table>\n",
       "</div>"
      ],
      "text/plain": [
       "                 movie  year  metascore  imdb  tmeter  audience  fandango  \\\n",
       "0  10 Cloverfield Lane  2016         76   7.2      90        79       3.5   \n",
       "1             13 Hours  2016         48   7.3      50        83       4.5   \n",
       "2  A Cure for Wellness  2016         47   6.6      40        47       3.0   \n",
       "\n",
       "   n_metascore  n_imdb  n_tmeter  n_audience  nr_metascore  nr_imdb  \\\n",
       "0         3.80    3.60       4.5        3.95           4.0      3.5   \n",
       "1         2.40    3.65       2.5        4.15           2.5      3.5   \n",
       "2         2.35    3.30       2.0        2.35           2.5      3.5   \n",
       "\n",
       "   nr_tmeter  nr_audience  \n",
       "0        4.5          4.0  \n",
       "1        2.5          4.0  \n",
       "2        2.0          2.5  "
      ]
     },
     "execution_count": 3,
     "metadata": {},
     "output_type": "execute_result"
    }
   ],
   "source": [
    "after.head(3)"
   ]
  },
  {
   "cell_type": "markdown",
   "id": "1e1f55cc",
   "metadata": {},
   "source": [
    "We collect the fields of interest from both datasets and perform basic cleaning tasks including: \n",
    "\n",
    "* Standardizing column names \n",
    "\n",
    "* Checking for null values \n",
    "\n",
    "* Adding new columns \n",
    "\n",
    "* Combining the datasets\n",
    "\n",
    "*Note,* copies are created to avoid the pandas `SettingWithCopy` warnings."
   ]
  },
  {
   "cell_type": "code",
   "execution_count": 4,
   "id": "18b36b31",
   "metadata": {},
   "outputs": [
    {
     "data": {
      "text/html": [
       "<div>\n",
       "<style scoped>\n",
       "    .dataframe tbody tr th:only-of-type {\n",
       "        vertical-align: middle;\n",
       "    }\n",
       "\n",
       "    .dataframe tbody tr th {\n",
       "        vertical-align: top;\n",
       "    }\n",
       "\n",
       "    .dataframe thead th {\n",
       "        text-align: right;\n",
       "    }\n",
       "</style>\n",
       "<table border=\"1\" class=\"dataframe\">\n",
       "  <thead>\n",
       "    <tr style=\"text-align: right;\">\n",
       "      <th></th>\n",
       "      <th>FILM</th>\n",
       "      <th>Fandango_Stars</th>\n",
       "      <th>Fandango_Ratingvalue</th>\n",
       "      <th>Fandango_votes</th>\n",
       "      <th>Fandango_Difference</th>\n",
       "    </tr>\n",
       "  </thead>\n",
       "  <tbody>\n",
       "    <tr>\n",
       "      <th>0</th>\n",
       "      <td>Avengers: Age of Ultron (2015)</td>\n",
       "      <td>5.0</td>\n",
       "      <td>4.5</td>\n",
       "      <td>14846</td>\n",
       "      <td>0.5</td>\n",
       "    </tr>\n",
       "    <tr>\n",
       "      <th>1</th>\n",
       "      <td>Cinderella (2015)</td>\n",
       "      <td>5.0</td>\n",
       "      <td>4.5</td>\n",
       "      <td>12640</td>\n",
       "      <td>0.5</td>\n",
       "    </tr>\n",
       "    <tr>\n",
       "      <th>2</th>\n",
       "      <td>Ant-Man (2015)</td>\n",
       "      <td>5.0</td>\n",
       "      <td>4.5</td>\n",
       "      <td>12055</td>\n",
       "      <td>0.5</td>\n",
       "    </tr>\n",
       "  </tbody>\n",
       "</table>\n",
       "</div>"
      ],
      "text/plain": [
       "                             FILM  Fandango_Stars  Fandango_Ratingvalue  \\\n",
       "0  Avengers: Age of Ultron (2015)             5.0                   4.5   \n",
       "1               Cinderella (2015)             5.0                   4.5   \n",
       "2                  Ant-Man (2015)             5.0                   4.5   \n",
       "\n",
       "   Fandango_votes  Fandango_Difference  \n",
       "0           14846                  0.5  \n",
       "1           12640                  0.5  \n",
       "2           12055                  0.5  "
      ]
     },
     "execution_count": 4,
     "metadata": {},
     "output_type": "execute_result"
    }
   ],
   "source": [
    "fandango_before = before[[\"FILM\", \"Fandango_Stars\", \"Fandango_Ratingvalue\", \"Fandango_votes\", \"Fandango_Difference\"]].copy() # collect relevant fields from the original dataset\n",
    "\n",
    "fandango_after = after[[\"movie\", \"year\", \"fandango\"]].copy() # collect relevant fields from the post-exposé dataset\n",
    "\n",
    "fandango_before.head(3)"
   ]
  },
  {
   "cell_type": "code",
   "execution_count": 5,
   "id": "d73362e9",
   "metadata": {},
   "outputs": [
    {
     "data": {
      "text/html": [
       "<div>\n",
       "<style scoped>\n",
       "    .dataframe tbody tr th:only-of-type {\n",
       "        vertical-align: middle;\n",
       "    }\n",
       "\n",
       "    .dataframe tbody tr th {\n",
       "        vertical-align: top;\n",
       "    }\n",
       "\n",
       "    .dataframe thead th {\n",
       "        text-align: right;\n",
       "    }\n",
       "</style>\n",
       "<table border=\"1\" class=\"dataframe\">\n",
       "  <thead>\n",
       "    <tr style=\"text-align: right;\">\n",
       "      <th></th>\n",
       "      <th>movie</th>\n",
       "      <th>year</th>\n",
       "      <th>fandango</th>\n",
       "    </tr>\n",
       "  </thead>\n",
       "  <tbody>\n",
       "    <tr>\n",
       "      <th>0</th>\n",
       "      <td>10 Cloverfield Lane</td>\n",
       "      <td>2016</td>\n",
       "      <td>3.5</td>\n",
       "    </tr>\n",
       "    <tr>\n",
       "      <th>1</th>\n",
       "      <td>13 Hours</td>\n",
       "      <td>2016</td>\n",
       "      <td>4.5</td>\n",
       "    </tr>\n",
       "    <tr>\n",
       "      <th>2</th>\n",
       "      <td>A Cure for Wellness</td>\n",
       "      <td>2016</td>\n",
       "      <td>3.0</td>\n",
       "    </tr>\n",
       "  </tbody>\n",
       "</table>\n",
       "</div>"
      ],
      "text/plain": [
       "                 movie  year  fandango\n",
       "0  10 Cloverfield Lane  2016       3.5\n",
       "1             13 Hours  2016       4.5\n",
       "2  A Cure for Wellness  2016       3.0"
      ]
     },
     "execution_count": 5,
     "metadata": {},
     "output_type": "execute_result"
    }
   ],
   "source": [
    "fandango_after.head(3)"
   ]
  },
  {
   "cell_type": "code",
   "execution_count": 6,
   "id": "04c3498f",
   "metadata": {},
   "outputs": [],
   "source": [
    "fandango_before.rename({\"FILM\": \"movie\", \"Fandango_Stars\": \"fandango_stars\", \"Fandango_Ratingvalue\": \"fandango_rating\", \"Fandango_votes\": \"fandango_votes\", \"Fandango_Difference\": \"fandango_diff\"}, axis=1, inplace=True)"
   ]
  },
  {
   "cell_type": "code",
   "execution_count": 7,
   "id": "b9f9a7bd",
   "metadata": {},
   "outputs": [
    {
     "data": {
      "text/html": [
       "<div>\n",
       "<style scoped>\n",
       "    .dataframe tbody tr th:only-of-type {\n",
       "        vertical-align: middle;\n",
       "    }\n",
       "\n",
       "    .dataframe tbody tr th {\n",
       "        vertical-align: top;\n",
       "    }\n",
       "\n",
       "    .dataframe thead th {\n",
       "        text-align: right;\n",
       "    }\n",
       "</style>\n",
       "<table border=\"1\" class=\"dataframe\">\n",
       "  <thead>\n",
       "    <tr style=\"text-align: right;\">\n",
       "      <th></th>\n",
       "      <th>movie</th>\n",
       "      <th>fandango_stars</th>\n",
       "      <th>fandango_rating</th>\n",
       "      <th>fandango_votes</th>\n",
       "      <th>fandango_diff</th>\n",
       "    </tr>\n",
       "  </thead>\n",
       "  <tbody>\n",
       "    <tr>\n",
       "      <th>0</th>\n",
       "      <td>Avengers: Age of Ultron (2015)</td>\n",
       "      <td>5.0</td>\n",
       "      <td>4.5</td>\n",
       "      <td>14846</td>\n",
       "      <td>0.5</td>\n",
       "    </tr>\n",
       "    <tr>\n",
       "      <th>1</th>\n",
       "      <td>Cinderella (2015)</td>\n",
       "      <td>5.0</td>\n",
       "      <td>4.5</td>\n",
       "      <td>12640</td>\n",
       "      <td>0.5</td>\n",
       "    </tr>\n",
       "    <tr>\n",
       "      <th>2</th>\n",
       "      <td>Ant-Man (2015)</td>\n",
       "      <td>5.0</td>\n",
       "      <td>4.5</td>\n",
       "      <td>12055</td>\n",
       "      <td>0.5</td>\n",
       "    </tr>\n",
       "  </tbody>\n",
       "</table>\n",
       "</div>"
      ],
      "text/plain": [
       "                            movie  fandango_stars  fandango_rating  \\\n",
       "0  Avengers: Age of Ultron (2015)             5.0              4.5   \n",
       "1               Cinderella (2015)             5.0              4.5   \n",
       "2                  Ant-Man (2015)             5.0              4.5   \n",
       "\n",
       "   fandango_votes  fandango_diff  \n",
       "0           14846            0.5  \n",
       "1           12640            0.5  \n",
       "2           12055            0.5  "
      ]
     },
     "execution_count": 7,
     "metadata": {},
     "output_type": "execute_result"
    }
   ],
   "source": [
    "fandango_before.head(3)"
   ]
  },
  {
   "cell_type": "code",
   "execution_count": 8,
   "id": "13f27f34",
   "metadata": {},
   "outputs": [
    {
     "data": {
      "text/html": [
       "<div>\n",
       "<style scoped>\n",
       "    .dataframe tbody tr th:only-of-type {\n",
       "        vertical-align: middle;\n",
       "    }\n",
       "\n",
       "    .dataframe tbody tr th {\n",
       "        vertical-align: top;\n",
       "    }\n",
       "\n",
       "    .dataframe thead th {\n",
       "        text-align: right;\n",
       "    }\n",
       "</style>\n",
       "<table border=\"1\" class=\"dataframe\">\n",
       "  <thead>\n",
       "    <tr style=\"text-align: right;\">\n",
       "      <th></th>\n",
       "      <th>movie</th>\n",
       "      <th>year</th>\n",
       "      <th>fandango_stars</th>\n",
       "      <th>fandango_rating</th>\n",
       "      <th>fandango_votes</th>\n",
       "      <th>fandango_diff</th>\n",
       "      <th>after_exposé</th>\n",
       "    </tr>\n",
       "  </thead>\n",
       "  <tbody>\n",
       "    <tr>\n",
       "      <th>0</th>\n",
       "      <td>Avengers: Age of Ultron</td>\n",
       "      <td>2015</td>\n",
       "      <td>5.0</td>\n",
       "      <td>4.5</td>\n",
       "      <td>14846</td>\n",
       "      <td>0.5</td>\n",
       "      <td>False</td>\n",
       "    </tr>\n",
       "    <tr>\n",
       "      <th>1</th>\n",
       "      <td>Cinderella</td>\n",
       "      <td>2015</td>\n",
       "      <td>5.0</td>\n",
       "      <td>4.5</td>\n",
       "      <td>12640</td>\n",
       "      <td>0.5</td>\n",
       "      <td>False</td>\n",
       "    </tr>\n",
       "    <tr>\n",
       "      <th>2</th>\n",
       "      <td>Ant-Man</td>\n",
       "      <td>2015</td>\n",
       "      <td>5.0</td>\n",
       "      <td>4.5</td>\n",
       "      <td>12055</td>\n",
       "      <td>0.5</td>\n",
       "      <td>False</td>\n",
       "    </tr>\n",
       "  </tbody>\n",
       "</table>\n",
       "</div>"
      ],
      "text/plain": [
       "                     movie  year  fandango_stars  fandango_rating  \\\n",
       "0  Avengers: Age of Ultron  2015             5.0              4.5   \n",
       "1               Cinderella  2015             5.0              4.5   \n",
       "2                  Ant-Man  2015             5.0              4.5   \n",
       "\n",
       "   fandango_votes  fandango_diff  after_exposé  \n",
       "0           14846            0.5         False  \n",
       "1           12640            0.5         False  \n",
       "2           12055            0.5         False  "
      ]
     },
     "execution_count": 8,
     "metadata": {},
     "output_type": "execute_result"
    }
   ],
   "source": [
    "fandango_before[\"year\"] = fandango_before[\"movie\"].str.extract(r\"\\((\\d+)\\)\").astype(int) # extract the year from the movie column and save as a new column\n",
    "\n",
    "fandango_before[\"movie\"] = fandango_before[\"movie\"].str.replace(r\"\\((\\d+)\\)\", \"\", regex=True) # remove the year from the movie column\n",
    "\n",
    "fandango_before[\"movie\"] = fandango_before[\"movie\"].str.strip() # remove leading and trailing whitespace\n",
    "\n",
    "fandango_before[\"after_exposé\"] = False # create a new column indicating if the record was collected after the exposé\n",
    "\n",
    "fandango_before = fandango_before[[\"movie\", \"year\", \"fandango_stars\", \"fandango_rating\", \"fandango_votes\", \"fandango_diff\", \"after_exposé\"]] # reorder columns\n",
    "\n",
    "fandango_before.head(3)"
   ]
  },
  {
   "cell_type": "code",
   "execution_count": 9,
   "id": "49af6a5a",
   "metadata": {},
   "outputs": [
    {
     "name": "stdout",
     "output_type": "stream",
     "text": [
      "<class 'pandas.core.frame.DataFrame'>\n",
      "RangeIndex: 146 entries, 0 to 145\n",
      "Data columns (total 7 columns):\n",
      " #   Column           Non-Null Count  Dtype  \n",
      "---  ------           --------------  -----  \n",
      " 0   movie            146 non-null    object \n",
      " 1   year             146 non-null    int64  \n",
      " 2   fandango_stars   146 non-null    float64\n",
      " 3   fandango_rating  146 non-null    float64\n",
      " 4   fandango_votes   146 non-null    int64  \n",
      " 5   fandango_diff    146 non-null    float64\n",
      " 6   after_exposé     146 non-null    bool   \n",
      "dtypes: bool(1), float64(3), int64(2), object(1)\n",
      "memory usage: 7.1+ KB\n"
     ]
    }
   ],
   "source": [
    "fandango_before.info()"
   ]
  },
  {
   "cell_type": "code",
   "execution_count": 10,
   "id": "be9e80a3",
   "metadata": {},
   "outputs": [
    {
     "data": {
      "text/html": [
       "<div>\n",
       "<style scoped>\n",
       "    .dataframe tbody tr th:only-of-type {\n",
       "        vertical-align: middle;\n",
       "    }\n",
       "\n",
       "    .dataframe tbody tr th {\n",
       "        vertical-align: top;\n",
       "    }\n",
       "\n",
       "    .dataframe thead th {\n",
       "        text-align: right;\n",
       "    }\n",
       "</style>\n",
       "<table border=\"1\" class=\"dataframe\">\n",
       "  <thead>\n",
       "    <tr style=\"text-align: right;\">\n",
       "      <th></th>\n",
       "      <th>movie</th>\n",
       "      <th>year</th>\n",
       "      <th>fandango_stars</th>\n",
       "      <th>after_exposé</th>\n",
       "    </tr>\n",
       "  </thead>\n",
       "  <tbody>\n",
       "    <tr>\n",
       "      <th>0</th>\n",
       "      <td>10 Cloverfield Lane</td>\n",
       "      <td>2016</td>\n",
       "      <td>3.5</td>\n",
       "      <td>True</td>\n",
       "    </tr>\n",
       "    <tr>\n",
       "      <th>1</th>\n",
       "      <td>13 Hours</td>\n",
       "      <td>2016</td>\n",
       "      <td>4.5</td>\n",
       "      <td>True</td>\n",
       "    </tr>\n",
       "    <tr>\n",
       "      <th>2</th>\n",
       "      <td>A Cure for Wellness</td>\n",
       "      <td>2016</td>\n",
       "      <td>3.0</td>\n",
       "      <td>True</td>\n",
       "    </tr>\n",
       "  </tbody>\n",
       "</table>\n",
       "</div>"
      ],
      "text/plain": [
       "                 movie  year  fandango_stars  after_exposé\n",
       "0  10 Cloverfield Lane  2016             3.5          True\n",
       "1             13 Hours  2016             4.5          True\n",
       "2  A Cure for Wellness  2016             3.0          True"
      ]
     },
     "execution_count": 10,
     "metadata": {},
     "output_type": "execute_result"
    }
   ],
   "source": [
    "fandango_after.rename({\"fandango\": \"fandango_stars\"}, axis=1, inplace=True) # standardize column name\n",
    "\n",
    "fandango_after[\"after_exposé\"] = True # create a new column indicating records were collected after the exposé\n",
    "\n",
    "fandango_after = fandango_after[[\"movie\", \"year\", \"fandango_stars\", \"after_exposé\"]] # reorder columns\n",
    "\n",
    "fandango_after.head(3)"
   ]
  },
  {
   "cell_type": "code",
   "execution_count": 11,
   "id": "5021c688",
   "metadata": {},
   "outputs": [
    {
     "name": "stdout",
     "output_type": "stream",
     "text": [
      "<class 'pandas.core.frame.DataFrame'>\n",
      "RangeIndex: 214 entries, 0 to 213\n",
      "Data columns (total 4 columns):\n",
      " #   Column          Non-Null Count  Dtype  \n",
      "---  ------          --------------  -----  \n",
      " 0   movie           214 non-null    object \n",
      " 1   year            214 non-null    int64  \n",
      " 2   fandango_stars  214 non-null    float64\n",
      " 3   after_exposé    214 non-null    bool   \n",
      "dtypes: bool(1), float64(1), int64(1), object(1)\n",
      "memory usage: 5.4+ KB\n"
     ]
    }
   ],
   "source": [
    "fandango_after.info()"
   ]
  },
  {
   "cell_type": "code",
   "execution_count": 12,
   "id": "dc99e89b",
   "metadata": {},
   "outputs": [
    {
     "data": {
      "text/html": [
       "<div>\n",
       "<style scoped>\n",
       "    .dataframe tbody tr th:only-of-type {\n",
       "        vertical-align: middle;\n",
       "    }\n",
       "\n",
       "    .dataframe tbody tr th {\n",
       "        vertical-align: top;\n",
       "    }\n",
       "\n",
       "    .dataframe thead th {\n",
       "        text-align: right;\n",
       "    }\n",
       "</style>\n",
       "<table border=\"1\" class=\"dataframe\">\n",
       "  <thead>\n",
       "    <tr style=\"text-align: right;\">\n",
       "      <th></th>\n",
       "      <th>movie</th>\n",
       "      <th>year</th>\n",
       "      <th>fandango_stars</th>\n",
       "      <th>fandango_rating</th>\n",
       "      <th>fandango_votes</th>\n",
       "      <th>fandango_diff</th>\n",
       "      <th>after_exposé</th>\n",
       "    </tr>\n",
       "  </thead>\n",
       "  <tbody>\n",
       "    <tr>\n",
       "      <th>0</th>\n",
       "      <td>Avengers: Age of Ultron</td>\n",
       "      <td>2015</td>\n",
       "      <td>5.0</td>\n",
       "      <td>4.5</td>\n",
       "      <td>14846.0</td>\n",
       "      <td>0.5</td>\n",
       "      <td>False</td>\n",
       "    </tr>\n",
       "    <tr>\n",
       "      <th>1</th>\n",
       "      <td>Cinderella</td>\n",
       "      <td>2015</td>\n",
       "      <td>5.0</td>\n",
       "      <td>4.5</td>\n",
       "      <td>12640.0</td>\n",
       "      <td>0.5</td>\n",
       "      <td>False</td>\n",
       "    </tr>\n",
       "    <tr>\n",
       "      <th>2</th>\n",
       "      <td>Ant-Man</td>\n",
       "      <td>2015</td>\n",
       "      <td>5.0</td>\n",
       "      <td>4.5</td>\n",
       "      <td>12055.0</td>\n",
       "      <td>0.5</td>\n",
       "      <td>False</td>\n",
       "    </tr>\n",
       "    <tr>\n",
       "      <th>3</th>\n",
       "      <td>Do You Believe?</td>\n",
       "      <td>2015</td>\n",
       "      <td>5.0</td>\n",
       "      <td>4.5</td>\n",
       "      <td>1793.0</td>\n",
       "      <td>0.5</td>\n",
       "      <td>False</td>\n",
       "    </tr>\n",
       "    <tr>\n",
       "      <th>4</th>\n",
       "      <td>Hot Tub Time Machine 2</td>\n",
       "      <td>2015</td>\n",
       "      <td>3.5</td>\n",
       "      <td>3.0</td>\n",
       "      <td>1021.0</td>\n",
       "      <td>0.5</td>\n",
       "      <td>False</td>\n",
       "    </tr>\n",
       "  </tbody>\n",
       "</table>\n",
       "</div>"
      ],
      "text/plain": [
       "                     movie  year  fandango_stars  fandango_rating  \\\n",
       "0  Avengers: Age of Ultron  2015             5.0              4.5   \n",
       "1               Cinderella  2015             5.0              4.5   \n",
       "2                  Ant-Man  2015             5.0              4.5   \n",
       "3          Do You Believe?  2015             5.0              4.5   \n",
       "4   Hot Tub Time Machine 2  2015             3.5              3.0   \n",
       "\n",
       "   fandango_votes  fandango_diff  after_exposé  \n",
       "0         14846.0            0.5         False  \n",
       "1         12640.0            0.5         False  \n",
       "2         12055.0            0.5         False  \n",
       "3          1793.0            0.5         False  \n",
       "4          1021.0            0.5         False  "
      ]
     },
     "execution_count": 12,
     "metadata": {},
     "output_type": "execute_result"
    }
   ],
   "source": [
    "fandango_merged = pd.concat([fandango_before, fandango_after], ignore_index=True) # combine the two datasets\n",
    "\n",
    "fandango_merged.head()"
   ]
  },
  {
   "cell_type": "code",
   "execution_count": 13,
   "id": "96dd9686",
   "metadata": {},
   "outputs": [
    {
     "name": "stdout",
     "output_type": "stream",
     "text": [
      "<class 'pandas.core.frame.DataFrame'>\n",
      "RangeIndex: 360 entries, 0 to 359\n",
      "Data columns (total 7 columns):\n",
      " #   Column           Non-Null Count  Dtype  \n",
      "---  ------           --------------  -----  \n",
      " 0   movie            360 non-null    object \n",
      " 1   year             360 non-null    int64  \n",
      " 2   fandango_stars   360 non-null    float64\n",
      " 3   fandango_rating  146 non-null    float64\n",
      " 4   fandango_votes   146 non-null    float64\n",
      " 5   fandango_diff    146 non-null    float64\n",
      " 6   after_exposé     360 non-null    bool   \n",
      "dtypes: bool(1), float64(4), int64(1), object(1)\n",
      "memory usage: 17.4+ KB\n"
     ]
    }
   ],
   "source": [
    "fandango_merged.info()"
   ]
  },
  {
   "cell_type": "code",
   "execution_count": 14,
   "id": "cd9530c5",
   "metadata": {},
   "outputs": [],
   "source": [
    "fandango_merged.to_csv(\"before_and_after_exposé.csv\", index=False) # save a copy of the combined dataset as a csv"
   ]
  },
  {
   "cell_type": "markdown",
   "id": "574cd660",
   "metadata": {},
   "source": [
    "The end goal is to determine whether there is any noticeable change in the Fandango ratings following the 2015 publication of the inaccurate Fandango star rating scores. Our population of interest comprises of **all** Fandango movie ratings stored on the site, regardless of the release year or number of votes received.\n",
    "\n",
    "As a result, to gauge whether there is a change in the population parameters after the exposé was published, we are interested in sampling the population at two different timepoints - one prior to the article release, and one following the article. \n",
    "\n",
    "We have two samples which we have merged into the same `fandango_merged` dataframe (above). To ensure our conclusions are accurate, we need representative samples, otherwise, large sampling errors can arise, leading to unreliable conclusions.\n",
    "\n",
    "### Original Dataset\n",
    "\n",
    "From the `README.md` file available in the [GitHub repository](https://github.com/fivethirtyeight/data/blob/master/fandango/README.md) for the initial investigation into the Fandango ratings, we can see the following sampling criteria was used:\n",
    "\n",
    "* Movies in the chosen for the sample must have at least 30 fan reviews.\n",
    "\n",
    "* The movie must have had tickets on sale in the year 2015.\n",
    "\n",
    "The sampling strategy used here is **purposive**, a non-probability sampling technique where the researcher selects individual data points according to specific characteristics. This is appropriate in some research contexts or to answer specific questions. \n",
    "\n",
    "This is clearly a non-random strategy since many potential individuals in the overall population had 0 chance of being selected. We therefore cannot be confident that this sample is truly representative of the entire population we aim to describe. It appears less likely to be representative - the sample is highly subject to *temporal trends* (e.g., 2015 movies may have been unexpectedly good or bad with respect to other years).\n",
    "\n",
    "For our purposes, this sample is not exactly appropriate for the question we are attempting to answer.\n",
    "\n",
    "---\n",
    "\n",
    "### Post-exposé Dataset\n",
    "\n",
    "The second dataset is also subject to these temporal trends. Again, reading the `README.md` file available in the [GitHub repo](https://github.com/mircealex/Movie_ratings_2016_17), the sample criteria are listed as follows:\n",
    "\n",
    "* The movie must be released in 2016 or later (only data for 2016/2017 was collected).\n",
    "\n",
    "* The movie must have had a \"considerable\" number of votes and reviews - it is not specified what the threshold for this criterion is.\n",
    "\n",
    "Again, a purposive sampling strategy was used by the researcher here, harming the ability of the sample to represent our population of interest. \n",
    "\n"
   ]
  },
  {
   "cell_type": "markdown",
   "id": "bf903d30",
   "metadata": {},
   "source": [
    "## Deviating from the Initial Aim "
   ]
  },
  {
   "cell_type": "markdown",
   "id": "7b1a5bb2",
   "metadata": {},
   "source": [
    "Since the samples are not ideal to answer the initial question posed at the beginning of the report, we can either proceed to gather new samples which are more representative of our target population (using randomised sampling strategies), or we can modify our initial question to change the population we are attempting to analyse.\n",
    "\n",
    "We can proceed with the latter of the two suggestions - it is **considerably** more time-efficient and practical:\n",
    "\n",
    "> * Instead of determining if there is any change in Fandango's rating system following the journalist's article, we can turn to determine if there is any difference between Fandango's ratings for popular movies in 2015 and Fandango's ratings for popular movies in 2016. \n",
    "\n",
    "This modified end goal should still remain a good proxy for our initial goal, and enable us to use the existing samples."
   ]
  },
  {
   "cell_type": "markdown",
   "id": "ffbcdbc7",
   "metadata": {},
   "source": [
    "## Filtering the Samples to Isolate the Relevant Data\n",
    "\n",
    "Since we have modified our end goal, our population of interest has now changed to \"popular\" Fandango movie ratings for movies released in 2015/2016. \n",
    "\n",
    "The \"popular\" criteria is not well-defined at this stage, but we can use the original benchmark for a popular movie of *at least 30 fan ratings* being featured for a movie on the Fandango site."
   ]
  },
  {
   "cell_type": "code",
   "execution_count": 15,
   "id": "7dd1a832",
   "metadata": {},
   "outputs": [
    {
     "data": {
      "text/plain": [
       "year\n",
       "2014     17\n",
       "2015    129\n",
       "2016    191\n",
       "2017     23\n",
       "Name: count, dtype: int64"
      ]
     },
     "execution_count": 15,
     "metadata": {},
     "output_type": "execute_result"
    }
   ],
   "source": [
    "fandango_merged[\"year\"].value_counts().sort_index()"
   ]
  },
  {
   "cell_type": "code",
   "execution_count": 16,
   "id": "3236e600",
   "metadata": {},
   "outputs": [],
   "source": [
    "fandango_2015 = fandango_merged[fandango_merged[\"year\"] == 2015] # filter records for 2015\n",
    "\n",
    "fandango_2016 = fandango_merged[fandango_merged[\"year\"] == 2016] # filter records for 2016"
   ]
  },
  {
   "cell_type": "code",
   "execution_count": 17,
   "id": "6623f037",
   "metadata": {},
   "outputs": [
    {
     "data": {
      "text/plain": [
       "year\n",
       "2015    129\n",
       "Name: count, dtype: int64"
      ]
     },
     "execution_count": 17,
     "metadata": {},
     "output_type": "execute_result"
    }
   ],
   "source": [
    "fandango_2015[\"year\"].value_counts()"
   ]
  },
  {
   "cell_type": "code",
   "execution_count": 18,
   "id": "df4274f1",
   "metadata": {},
   "outputs": [
    {
     "data": {
      "text/plain": [
       "year\n",
       "2016    191\n",
       "Name: count, dtype: int64"
      ]
     },
     "execution_count": 18,
     "metadata": {},
     "output_type": "execute_result"
    }
   ],
   "source": [
    "fandango_2016[\"year\"].value_counts()"
   ]
  },
  {
   "cell_type": "markdown",
   "id": "f86b399d",
   "metadata": {},
   "source": [
    "## Comparing Distribution Shapes for Fandango Star Ratings for 2015 vs. 2016"
   ]
  },
  {
   "cell_type": "markdown",
   "id": "10a29e8c",
   "metadata": {},
   "source": [
    "In order to assess whether there is any notable change in the star ratings displayed on the Fandango site prior to and after release of the exposé, we can compare the shape of the distributions of ratings for each year.\n",
    "\n",
    "To do this, we can visualize the distributions using a number of charts. \n",
    "\n",
    "A variety of plots are created below:\n",
    "\n",
    "* Kernel Density Estimate plots (KDEs)\n",
    "\n",
    "* Strip plots\n",
    "\n",
    "* Box plots"
   ]
  },
  {
   "cell_type": "code",
   "execution_count": 19,
   "id": "1b1fcaa1",
   "metadata": {},
   "outputs": [
    {
     "data": {
      "image/png": "[encoded data removed]",
      "text/plain": [
       "<Figure size 1600x800 with 1 Axes>"
      ]
     },
     "metadata": {},
     "output_type": "display_data"
    }
   ],
   "source": [
    "plt.style.use(\"fivethirtyeight\")\n",
    "\n",
    "fandango_2015[\"fandango_rating\"].plot.kde(label=\"2015 rating scores\", figsize=(16, 8))\n",
    "fandango_2015[\"fandango_stars\"].plot.kde(label=\"2015 stars\")\n",
    "fandango_2016[\"fandango_stars\"].plot.kde(label=\"2016 stars\")\n",
    "\n",
    "plt.title(\"Comparing Distributions of Fandango Ratings (2015 vs. 2016)\", fontsize=18, y=1.02)\n",
    "plt.xlabel(\"Stars\")\n",
    "plt.xlim(0, 5)\n",
    "plt.xticks(np.arange(0, 5.1, 0.5))\n",
    "\n",
    "plt.ylabel(\"Density\")\n",
    "\n",
    "plt.legend()\n",
    "\n",
    "plt.show()"
   ]
  },
  {
   "cell_type": "markdown",
   "id": "0c81322e",
   "metadata": {},
   "source": [
    "### Remarks\n",
    "\n",
    "There are three main points of interest in the KDE plot above:\n",
    "\n",
    ">* Both star rating distributions are strongly left-skewed.\n",
    ">\n",
    ">* The 2015 **rating score** distribution is considerably more left-shifted than the 2015 star distribution.\n",
    ">\n",
    ">* The 2016 star rating distribution is shifted to the left relative to the 2015 distribution.\n",
    "\n",
    "The strong left skew of all distributions indicates movie ratings on Fandango are predominantly given **high** fan ratings - there is a significantly higher probability of movies being rated above 3.5 stars than any other possible value in the 0-5 range. \n",
    "\n",
    ">The observation that the 2015 rating score distribution is left-shifted relative to the 2015 star distribution corroborates the findings reported in the original exposé: that the true audience ratings were **not** accurately portrayed on the Fandango site.\n",
    "\n",
    ">Since Fandango also acts as a ticket seller, this appears quite *dubious*. Artificially inflating ratings on the site could easily mislead the public, build hype and serve to encourage a greater number of ticket sales. Further investigation would be necessary to pursue this allegation further. As it goes beyond the main goal of this project, we will not take this any further.\n",
    "\n",
    "---\n",
    "\n",
    "With regards to our analysis, there is a clear left-shift in the 2016 popular movie star ratings. The most probable star rating **drops** to 4.0 in 2016, down from approximately 4.5 stars in 2015. This acts as evidence to suggest there is indeed a difference between Fandango's 2015 and 2016 popular movie ratings. \n",
    "\n",
    "This does seem to support the official statement which claimed they were working to fix inflated ratings."
   ]
  },
  {
   "cell_type": "code",
   "execution_count": 20,
   "id": "bc241a4e",
   "metadata": {},
   "outputs": [
    {
     "data": {
      "image/png": "[encoded data removed]",
      "text/plain": [
       "<Figure size 1600x600 with 2 Axes>"
      ]
     },
     "metadata": {},
     "output_type": "display_data"
    }
   ],
   "source": [
    "plt.style.use(\"fivethirtyeight\")\n",
    "\n",
    "palette = sns.color_palette(\"muted\", 2)\n",
    "\n",
    "plt.figure(figsize=(16, 6))\n",
    "\n",
    "plt.suptitle(\"Comparing Distributions of Fandango Star Ratings (2015 vs. 2016)\", fontsize=20, y=1.02)\n",
    "\n",
    "plt.subplot(1,2,1)\n",
    "\n",
    "sns.stripplot(x=\"year\", y=\"fandango_stars\", hue=\"year\", palette=palette, data=pd.concat([fandango_2015, fandango_2016]), jitter=True)\n",
    "\n",
    "plt.xticks(fontsize=12)\n",
    "plt.xlabel(\"\")\n",
    "\n",
    "plt.ylabel(\"Stars\", fontsize=14)\n",
    "\n",
    "plt.legend(bbox_to_anchor=(1.1,0.5))\n",
    "\n",
    "plt.subplot(1,2,2)\n",
    "\n",
    "sns.boxplot(x=\"year\", y=\"fandango_stars\", hue=\"year\", palette=palette, data=pd.concat([fandango_2015, fandango_2016]), width=0.15)\n",
    "\n",
    "plt.xticks(fontsize=12)\n",
    "plt.xlabel(\"\")\n",
    "\n",
    "plt.ylabel(\"Stars\", fontsize=14)\n",
    "\n",
    "plt.legend(bbox_to_anchor=(1.17,0.5))\n",
    "\n",
    "plt.show()\n"
   ]
  },
  {
   "cell_type": "markdown",
   "id": "9f091681",
   "metadata": {},
   "source": [
    "### Remarks on the Strip and Box Plots\n",
    "\n",
    "The strip and box plots provided above echo the key points highlighted above. \n",
    "\n",
    "We can also pick out a clear downwards shift in popular movie ratings moving from 2015 to 2016. The entire distribution seems to shift downwards, with fewer maximum star ratings and a handful of lower 2.5 star ratings appearing in 2016. \n",
    "\n",
    "We also observe the interquartile range tightening up moving to 2016 since the spread of ratings in the central 50% of the datapoints becomes smaller. The overall range does increase however, with a number of lower rated movies widening the extrema value separation."
   ]
  },
  {
   "cell_type": "markdown",
   "id": "53c02baa",
   "metadata": {},
   "source": [
    "### Frequency Tables"
   ]
  },
  {
   "cell_type": "code",
   "execution_count": 21,
   "id": "d76a9304",
   "metadata": {},
   "outputs": [
    {
     "name": "stdout",
     "output_type": "stream",
     "text": [
      "2015\n",
      "------------------------------\n"
     ]
    },
    {
     "data": {
      "text/plain": [
       "fandango_stars\n",
       "5.0                6.976744\n",
       "4.5               37.984496\n",
       "4.0               28.682171\n",
       "3.5               17.829457\n",
       "3.0                8.527132\n",
       "Name: proportion, dtype: float64"
      ]
     },
     "execution_count": 21,
     "metadata": {},
     "output_type": "execute_result"
    }
   ],
   "source": [
    "print(\"2015\" + \"\\n\" + \"-\"*30)\n",
    "fandango_2015[[\"fandango_stars\"]].value_counts(normalize=True).sort_index(ascending=False) * 100"
   ]
  },
  {
   "cell_type": "code",
   "execution_count": 22,
   "id": "8aae10f1",
   "metadata": {},
   "outputs": [
    {
     "name": "stdout",
     "output_type": "stream",
     "text": [
      "2016\n",
      "------------------------------\n"
     ]
    },
    {
     "data": {
      "text/plain": [
       "fandango_stars\n",
       "5.0                0.523560\n",
       "4.5               24.607330\n",
       "4.0               40.314136\n",
       "3.5               24.083770\n",
       "3.0                7.329843\n",
       "2.5                3.141361\n",
       "Name: proportion, dtype: float64"
      ]
     },
     "execution_count": 22,
     "metadata": {},
     "output_type": "execute_result"
    }
   ],
   "source": [
    "print(\"2016\" + \"\\n\" + \"-\"*30)\n",
    "fandango_2016[[\"fandango_stars\"]].value_counts(normalize=True).sort_index(ascending=False) * 100"
   ]
  },
  {
   "cell_type": "markdown",
   "id": "38e90771",
   "metadata": {},
   "source": [
    "### Remarks on the Frequency Tables\n",
    "\n",
    ">Of the 129 movies in the 2015 sample, nearly 7% had a full 5-star rating. This seems extraordinarily high for movie ratings. A further 38% had ratings around 4.5 stars, which is a large portion of the dataset. The 2015 data is clearly highly left-skewed, even from inspection of the frequency table alone.\n",
    "\n",
    ">Moving to the 2016 dataset, of the 191 movies in the sample, a huge reduction in the percentage of 5 star movies is observed, dropping to a mere 0.5%. The number of 4.5 star ratings also took a notable hit, dropping to slightly less than 25%. We also observe a small number (~3%) of movies in the sample with star ratings falling to the new low of 2.5 stars. It is still interesting that there are no examples of movies below this, however, it may be explained due to the fact that \"popular\" movies were selected (hence it is far less likely for any of these movies to have poor ratings).\n",
    "\n",
    ">One notable observation that the visualizations overlooked is the fact that the percentage of **4-star rated movies actually increased** moving from 2015 to 2016. This could be explained by the large portion of 4.5 star rated movies from 2015. If the presented star ratings were amended following the journalist's article, we should expect a sudden surge in 4-star ratings since many of the 4.5 star rated movies would be correctly rounded down to 4 stars (e.g., a 4.1 rated movie would be amended to display 4 stars and **not** 4.5)."
   ]
  },
  {
   "cell_type": "markdown",
   "id": "2cb5ede0",
   "metadata": {},
   "source": [
    "## Summary Statistics to Evaluate the Direction of the Overall Change"
   ]
  },
  {
   "cell_type": "code",
   "execution_count": 23,
   "id": "2357d074",
   "metadata": {},
   "outputs": [
    {
     "data": {
      "text/html": [
       "<div>\n",
       "<style scoped>\n",
       "    .dataframe tbody tr th:only-of-type {\n",
       "        vertical-align: middle;\n",
       "    }\n",
       "\n",
       "    .dataframe tbody tr th {\n",
       "        vertical-align: top;\n",
       "    }\n",
       "\n",
       "    .dataframe thead th {\n",
       "        text-align: right;\n",
       "    }\n",
       "</style>\n",
       "<table border=\"1\" class=\"dataframe\">\n",
       "  <thead>\n",
       "    <tr style=\"text-align: right;\">\n",
       "      <th></th>\n",
       "      <th>2015</th>\n",
       "      <th>2016</th>\n",
       "    </tr>\n",
       "  </thead>\n",
       "  <tbody>\n",
       "    <tr>\n",
       "      <th>mean</th>\n",
       "      <td>4.085271</td>\n",
       "      <td>3.887435</td>\n",
       "    </tr>\n",
       "    <tr>\n",
       "      <th>median</th>\n",
       "      <td>4.000000</td>\n",
       "      <td>4.000000</td>\n",
       "    </tr>\n",
       "    <tr>\n",
       "      <th>mode</th>\n",
       "      <td>4.500000</td>\n",
       "      <td>4.000000</td>\n",
       "    </tr>\n",
       "  </tbody>\n",
       "</table>\n",
       "</div>"
      ],
      "text/plain": [
       "            2015      2016\n",
       "mean    4.085271  3.887435\n",
       "median  4.000000  4.000000\n",
       "mode    4.500000  4.000000"
      ]
     },
     "execution_count": 23,
     "metadata": {},
     "output_type": "execute_result"
    }
   ],
   "source": [
    "from statistics import mode\n",
    "\n",
    "import warnings \n",
    "warnings.filterwarnings(\"ignore\", category=FutureWarning) # ignore future warnings\n",
    "\n",
    "summary_2015 = fandango_2015[[\"fandango_stars\"]].agg([np.mean, np.median, mode]) # calculate summary statistics for the 2015 fandango star ratings\n",
    "\n",
    "summary_2016 = fandango_2016[[\"fandango_stars\"]].agg([np.mean, np.median, mode]) # calculate summary statistics for the 2016 fandango star ratings\n",
    "\n",
    "summary = pd.DataFrame() # create and populate a dataframe with the summary statistics\n",
    "\n",
    "summary[\"2015\"] = summary_2015\n",
    "summary[\"2016\"] = summary_2016\n",
    "\n",
    "summary.index = [\"mean\", \"median\", \"mode\"]\n",
    "\n",
    "summary"
   ]
  },
  {
   "cell_type": "code",
   "execution_count": 24,
   "id": "a1a29f54",
   "metadata": {},
   "outputs": [
    {
     "data": {
      "image/png": "[encoded data removed]",
      "text/plain": [
       "<Figure size 1200x800 with 1 Axes>"
      ]
     },
     "metadata": {},
     "output_type": "display_data"
    }
   ],
   "source": [
    "plt.style.use(\"fivethirtyeight\")\n",
    "\n",
    "plt.figure(figsize=(12, 8))\n",
    "\n",
    "plt.subplot(1, 1, 1)\n",
    "\n",
    "plt.bar(summary.index, summary[\"2015\"], width=0.2, align=\"center\", color=\"#D30C69FF\", label=\"2015\")\n",
    "plt.bar(summary.index, summary[\"2016\"], width=0.2, align=\"edge\", color=\"#530BB1FF\", label=\"2016\")\n",
    "\n",
    "plt.title(\"Comparing Summary Statistics of Fandango Star Ratings (2015 vs. 2016)\", fontsize=18, y=1.05)\n",
    "plt.legend(bbox_to_anchor=(1,0.5))\n",
    "\n",
    "plt.ylim(0, 5)\n",
    "plt.yticks(np.arange(0, 5.1, 0.5))\n",
    "plt.ylabel(\"Stars\", fontsize=12)\n",
    "\n",
    "plt.show()"
   ]
  },
  {
   "cell_type": "code",
   "execution_count": 25,
   "id": "b30175b7",
   "metadata": {},
   "outputs": [
    {
     "data": {
      "text/plain": [
       "np.float64(-4.842683568951993)"
      ]
     },
     "execution_count": 25,
     "metadata": {},
     "output_type": "execute_result"
    }
   ],
   "source": [
    "((summary.loc[\"mean\", \"2016\"] - summary.loc[\"mean\", \"2015\"]) / summary.loc[\"mean\", \"2015\"]) * 100 # calculate percentage change in the mean star rating between 2015 and 2016"
   ]
  },
  {
   "cell_type": "markdown",
   "id": "4c8de04a",
   "metadata": {},
   "source": [
    "### Remarks\n",
    "\n",
    "The mean rating dropped by roughly 0.2 points moving from 2015 to 2016. This corresponds to a **4.8% drop** in the mean star rating of popular movies. \n",
    "\n",
    "Although the median remains the same for both years, the modal star rating for popular movies drops from 4.5 stars in 2015 to 4.0 stars in 2016.\n",
    "\n",
    ">This alongside the leftwards shift in the distribution from the KDE plot confirms that the average star rating of popular movies featured on Fandango in 2016 were lower than the Fandango star ratings of popular movies in 2015."
   ]
  },
  {
   "cell_type": "markdown",
   "id": "8fd08cea",
   "metadata": {},
   "source": [
    "## Conclusion\n",
    "\n",
    ">The analysis conducted herein illustrated there is indeed a noticeable difference between Fandango's ratings for popular movies over the 2015-2016 period. It was found that on average, popular movies released in 2016 had a lower star rating on Fandango than popular movies released in 2015. \n",
    "\n",
    ">We cannot claim with certainty what the cause for this difference is, but it is relatively likely considering the context of the situation that the difference is a result of the Fandango team amending their biased rating system post-exposé."
   ]
  }
 ],
 "metadata": {
  "kernelspec": {
   "display_name": "Python 3",
   "language": "python",
   "name": "python3"
  },
  "language_info": {
   "codemirror_mode": {
    "name": "ipython",
    "version": 3
   },
   "file_extension": ".py",
   "mimetype": "text/x-python",
   "name": "python",
   "nbconvert_exporter": "python",
   "pygments_lexer": "ipython3",
   "version": "3.12.10"
  }
 },
 "nbformat": 4,
 "nbformat_minor": 5
}
